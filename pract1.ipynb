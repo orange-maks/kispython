{
 "cells": [
  {
   "cell_type": "markdown",
   "metadata": {},
   "source": [
    "# Практическое занятие №1"
   ]
  },
  {
   "cell_type": "markdown",
   "metadata": {},
   "source": [
    "Акопян Максим Игоревич\n",
    "ИКБО-10-19"
   ]
  },
  {
   "cell_type": "code",
   "execution_count": 2,
   "metadata": {},
   "outputs": [
    {
     "name": "stdout",
     "output_type": "stream",
     "text": [
      "5.963167028053521e+16\n",
      "8879276507\n",
      "7399703744331.595\n",
      "1.2541137039875254\n"
     ]
    }
   ],
   "source": [
    "import math\n",
    "def ex1(x,y,z):\n",
    "    return (y**6+math.log1p(y))**4+y**5/34+math.sqrt((14*z**5-10*z**3)/(88*y**7+z**5+26))+21*y**5-z**7+25\n",
    "\n",
    "def ex2(x):\n",
    "    if x<94:\n",
    "        return (x**6+math.log1p(x))**4+x**5/34\n",
    "    elif 94<=x<109:\n",
    "        return 14*(53*x**5-x**4)**4-math.exp(x)\n",
    "    elif 109<=x<142:\n",
    "        return 5*x**4-x**5+20\n",
    "    elif 142<=x<205:\n",
    "        return math.log1p(x**2+52*x**4-86)+71*x**8+35\n",
    "    else:\n",
    "        return abs(60*x**3+abs(x))+x**4-7\n",
    "\n",
    "def ex3(n,m):\n",
    "    sum1=0\n",
    "    for i in range(1,n+1):\n",
    "        for j in range(1,m+1):\n",
    "            sum1+=j**4+i**5/6\n",
    "    sum2=0\n",
    "    for i in range(1, n+1):\n",
    "        for j in range(1, m+1):\n",
    "            sum2 += math.tan(i)+j**2\n",
    "    return 55*sum1-34*sum2\n",
    "\n",
    "def ex4(n):\n",
    "    if n==0:\n",
    "        return 2\n",
    "    else:\n",
    "        return math.cos(ex4(n-1))+math.sin(ex4(n-1))\n",
    "\n",
    "\n",
    "print(ex1(-82,5,44))\n",
    "print(ex2(293))\n",
    "print(ex3(48,100))\n",
    "print(ex4(9))"
   ]
  }
 ],
 "metadata": {
  "kernelspec": {
   "display_name": "Python 3",
   "language": "python",
   "name": "python3"
  },
  "language_info": {
   "codemirror_mode": {
    "name": "ipython",
    "version": 3
   },
   "file_extension": ".py",
   "mimetype": "text/x-python",
   "name": "python",
   "nbconvert_exporter": "python",
   "pygments_lexer": "ipython3",
   "version": "3.7.4"
  }
 },
 "nbformat": 4,
 "nbformat_minor": 4
}
